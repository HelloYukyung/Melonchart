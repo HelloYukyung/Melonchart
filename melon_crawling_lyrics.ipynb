{
 "cells": [
  {
   "cell_type": "code",
   "execution_count": 1,
   "metadata": {},
   "outputs": [
    {
     "name": "stderr",
     "output_type": "stream",
     "text": [
      "C:\\Users\\USER\\Anaconda3\\lib\\site-packages\\pandas\\compat\\_optional.py:138: UserWarning: Pandas requires version '2.7.0' or newer of 'numexpr' (version '2.6.9' currently installed).\n",
      "  warnings.warn(msg, UserWarning)\n"
     ]
    }
   ],
   "source": [
    "from selenium import webdriver\n",
    "import pandas as pd\n",
    "from bs4 import BeautifulSoup"
   ]
  },
  {
   "cell_type": "code",
   "execution_count": 2,
   "metadata": {},
   "outputs": [],
   "source": [
    "driver = webdriver.Chrome(\"./chromedriver.exe\")\n",
    "driver.get(\"https://www.melon.com/genre/song_list.htm\")\n",
    "\n",
    "soup = BeautifulSoup(driver.page_source, 'html.parser')"
   ]
  },
  {
   "cell_type": "code",
   "execution_count": 3,
   "metadata": {
    "scrolled": true
   },
   "outputs": [
    {
     "data": {
      "text/plain": [
       "'33796072'"
      ]
     },
     "execution_count": 3,
     "metadata": {},
     "output_type": "execute_result"
    }
   ],
   "source": [
    "tmp = driver.find_element_by_xpath(\"/html/body/div/div[3]/div/div/div[5]/form/div/table/tbody/tr[1]/td[1]/div\")\n",
    "tmp.find_element_by_class_name('input_check ').get_attribute(\"value\")"
   ]
  },
  {
   "cell_type": "code",
   "execution_count": 4,
   "metadata": {},
   "outputs": [
    {
     "name": "stdout",
     "output_type": "stream",
     "text": [
      "33796072\n",
      "33796329\n",
      "33795443\n",
      "33795485\n",
      "33797517\n",
      "33796362\n",
      "33796256\n",
      "33795342\n",
      "33795330\n",
      "33795227\n",
      "33794569\n",
      "33793429\n",
      "33794227\n",
      "33787119\n",
      "33787824\n",
      "33789484\n",
      "33791758\n",
      "33789810\n",
      "33787271\n",
      "33783588\n",
      "33780368\n",
      "33769710\n",
      "33761184\n",
      "33781311\n",
      "33780639\n",
      "33788203\n",
      "33787285\n",
      "33782039\n",
      "33781704\n",
      "33781595\n",
      "33781495\n",
      "33781257\n",
      "33781255\n",
      "33766313\n",
      "33772754\n",
      "33772401\n",
      "33769470\n",
      "33778504\n",
      "33773263\n",
      "33773070\n",
      "33772737\n",
      "33772428\n",
      "33772756\n",
      "33770536\n",
      "33773003\n",
      "33772303\n",
      "33771453\n",
      "33770821\n",
      "33771529\n",
      "33771811\n"
     ]
    }
   ],
   "source": [
    "number=[]\n",
    "\n",
    "for i in range(1, 51):\n",
    "    tmp_xpath = \"/html/body/div/div[3]/div/div/div[5]/form/div/table/tbody/tr[\" + str(i) + \"]/td[1]/div\"\n",
    "    tmp = driver.find_element_by_xpath(tmp_xpath)\n",
    "    print(tmp.find_element_by_class_name('input_check ').get_attribute(\"value\"))\n",
    "    number.append(tmp.find_element_by_class_name('input_check ').get_attribute(\"value\"))\n",
    "    "
   ]
  },
  {
   "cell_type": "code",
   "execution_count": 5,
   "metadata": {
    "scrolled": true
   },
   "outputs": [],
   "source": [
    "# # xpath 연결 \n",
    "\n",
    "# /html/body/div/div[3]/div/div/div[5]/form/div/table/tbody/tr[2]/td[1]/div\n",
    "# /html/body/div/div[3]/div/div/div[5]/form/div/table/tbody/tr[50]/td[1]/div"
   ]
  },
  {
   "cell_type": "code",
   "execution_count": 6,
   "metadata": {},
   "outputs": [],
   "source": [
    "LYRIC=[]\n",
    "for i in number:\n",
    "    driver.get(\"https://www.melon.com/song/detail.htm?songId=\" + i)\n",
    "    lyric=driver.find_element_by_class_name(\"lyric\")\n",
    "    LYRIC.append(lyric.text)\n",
    "    "
   ]
  },
  {
   "cell_type": "code",
   "execution_count": 7,
   "metadata": {},
   "outputs": [],
   "source": [
    "df=pd.DataFrame({\"가사\":LYRIC})\n",
    "df.to_excel(\"melon_lyrics.xlsx\",  encoding='utf-8')\n"
   ]
  },
  {
   "cell_type": "code",
   "execution_count": null,
   "metadata": {},
   "outputs": [],
   "source": []
  }
 ],
 "metadata": {
  "kernelspec": {
   "display_name": "Python 3",
   "language": "python",
   "name": "python3"
  },
  "language_info": {
   "codemirror_mode": {
    "name": "ipython",
    "version": 3
   },
   "file_extension": ".py",
   "mimetype": "text/x-python",
   "name": "python",
   "nbconvert_exporter": "python",
   "pygments_lexer": "ipython3",
   "version": "3.7.3"
  }
 },
 "nbformat": 4,
 "nbformat_minor": 2
}
