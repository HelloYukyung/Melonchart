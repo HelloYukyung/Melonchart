{
 "cells": [
  {
   "cell_type": "code",
   "execution_count": 1,
   "metadata": {},
   "outputs": [
    {
     "name": "stderr",
     "output_type": "stream",
     "text": [
      "C:\\Users\\USER\\Anaconda3\\lib\\site-packages\\pandas\\compat\\_optional.py:138: UserWarning: Pandas requires version '2.7.0' or newer of 'numexpr' (version '2.6.9' currently installed).\n",
      "  warnings.warn(msg, UserWarning)\n"
     ]
    }
   ],
   "source": [
    "import selenium\n",
    "from selenium import webdriver\n",
    "from bs4 import BeautifulSoup\n",
    "import requests\n",
    "from webdriver_manager.chrome import ChromeDriverManager\n",
    "import csv\n",
    "import pandas as pd"
   ]
  },
  {
   "cell_type": "markdown",
   "metadata": {},
   "source": [
    "# 초기설정"
   ]
  },
  {
   "cell_type": "code",
   "execution_count": 2,
   "metadata": {
    "scrolled": true
   },
   "outputs": [
    {
     "name": "stderr",
     "output_type": "stream",
     "text": [
      "\n",
      "\n",
      "====== WebDriver manager ======\n",
      "Current google-chrome version is 92.0.4515\n",
      "Get LATEST driver version for 92.0.4515\n",
      "Get LATEST driver version for 92.0.4515\n",
      "Trying to download new driver from https://chromedriver.storage.googleapis.com/92.0.4515.107/chromedriver_win32.zip\n",
      "Driver has been saved in cache [C:\\Users\\USER\\.wdm\\drivers\\chromedriver\\win32\\92.0.4515.107]\n"
     ]
    }
   ],
   "source": [
    "driver = webdriver.Chrome(ChromeDriverManager().install())"
   ]
  },
  {
   "cell_type": "code",
   "execution_count": 3,
   "metadata": {},
   "outputs": [],
   "source": [
    "URL=\"https://www.melon.com/chart/index.htm\"\n",
    "driver.get(URL)"
   ]
  },
  {
   "cell_type": "code",
   "execution_count": 4,
   "metadata": {
    "scrolled": true
   },
   "outputs": [],
   "source": [
    "html = driver.page_source\n",
    "soup = BeautifulSoup(html,\"lxml\")"
   ]
  },
  {
   "cell_type": "markdown",
   "metadata": {},
   "source": [
    "# 장르별 노래\n"
   ]
  },
  {
   "cell_type": "code",
   "execution_count": 5,
   "metadata": {},
   "outputs": [],
   "source": [
    "# GNR_DICT = {\n",
    "#     \"발라드\": \"GN0100\",\n",
    "#     \"댄스\": \"GN0200\",\n",
    "#     \"랩/힙합\": \"GN0300\",\n",
    "#     \"R&B/Soul\": \"GN0400\",\n",
    "#     \"인디음악\": \"GN0500\",\n",
    "#     \"록/메탈\": \"GN0600\",\n",
    "#     \"트로트\": \"GN0700\",\n",
    "#     \"포크/블루스\": \"GN0800\",\n",
    "# }\n",
    "\n"
   ]
  },
  {
   "cell_type": "code",
   "execution_count": 6,
   "metadata": {},
   "outputs": [],
   "source": [
    "# a = driver.find_element_by_class_name(\"first_child\")\n",
    "# a.click()"
   ]
  },
  {
   "cell_type": "markdown",
   "metadata": {},
   "source": [
    "------------------"
   ]
  },
  {
   "cell_type": "markdown",
   "metadata": {},
   "source": [
    "# 노래 제목 크롤링 "
   ]
  },
  {
   "cell_type": "code",
   "execution_count": 7,
   "metadata": {
    "scrolled": true
   },
   "outputs": [],
   "source": [
    "song_title = soup.find_all('div', attrs={'class': 'ellipsis rank01'})"
   ]
  },
  {
   "cell_type": "code",
   "execution_count": 8,
   "metadata": {
    "scrolled": false
   },
   "outputs": [
    {
     "name": "stdout",
     "output_type": "stream",
     "text": [
      "\n",
      "신호등\n",
      "\n",
      "\n",
      "낙하 (with 아이유)\n",
      "\n",
      "\n",
      "바라만 본다\n",
      "\n",
      "\n",
      "Permission to Dance\n",
      "\n",
      "\n",
      "Next Level\n",
      "\n",
      "\n",
      "Weekend\n",
      "\n",
      "\n",
      "Butter\n",
      "\n",
      "\n",
      "좋아좋아\n",
      "\n",
      "\n",
      "헤픈 우연\n",
      "\n",
      "\n",
      "Peaches (Feat. Daniel Caesar & Giveon)\n",
      "\n",
      "\n",
      "Dynamite\n",
      "\n",
      "\n",
      "OHAYO MY NIGHT\n",
      "\n",
      "\n",
      "Dun Dun Dance\n",
      "\n",
      "\n",
      "치맛바람 (Chi Mat Ba Ram)\n",
      "\n",
      "\n",
      "롤린 (Rollin')\n",
      "\n",
      "\n",
      "Alcohol-Free\n",
      "\n",
      "\n",
      "비와 당신\n",
      "\n",
      "\n",
      "라일락\n",
      "\n",
      "\n",
      "이제 나만 믿어요\n",
      "\n",
      "\n",
      "고백\n",
      "\n",
      "\n",
      "DUMB DUMB\n",
      "\n",
      "\n",
      "하루만 더\n",
      "\n",
      "\n",
      "나를 아는 사람\n",
      "\n",
      "\n",
      "비가 오는 날엔 (2021)\n",
      "\n",
      "\n",
      "Celebrity\n",
      "\n",
      "\n",
      "ASAP\n",
      "\n",
      "\n",
      "안녕 (Hello)\n",
      "\n",
      "\n",
      "제자리 걸음\n",
      "\n",
      "\n",
      "Bad Habits\n",
      "\n",
      "\n",
      "운전만해 (We Ride)\n",
      "\n",
      "\n",
      "Savage Love (Laxed - Siren Beat) (BTS Remix)\n",
      "\n",
      "\n",
      "STAY\n",
      "\n",
      "\n",
      "작은 것들을 위한 시 (Boy With Luv) (Feat. Halsey)\n",
      "\n",
      "\n",
      "상상더하기\n",
      "\n",
      "\n",
      "사이렌 Remix (Feat. UNEDUCATED KID, Paul Blanco)\n",
      "\n",
      "\n",
      "별빛 같은 나의 사랑아\n",
      "\n",
      "\n",
      "둘 중에 골라 (Summer or Summer)\n",
      "\n",
      "\n",
      "다정히 내 이름을 부르면\n",
      "\n",
      "\n",
      "Timeless\n",
      "\n",
      "\n",
      "HERO\n",
      "\n",
      "\n",
      "내 손을 잡아\n",
      "\n",
      "\n",
      "상상더하기\n",
      "\n",
      "\n",
      "봄날\n",
      "\n",
      "\n",
      "Life Goes On\n",
      "\n",
      "\n",
      "멜로디\n",
      "\n",
      "\n",
      "그대라는 사치\n",
      "\n",
      "\n",
      "밝게 빛나는 별이 되어 비춰줄게\n",
      "\n",
      "\n",
      "다시 사랑한다면 (김필 Ver.)\n",
      "\n",
      "\n",
      "끝사랑\n",
      "\n",
      "\n",
      "Bk Love\n",
      "\n",
      "\n",
      "넌 좋은 사람\n",
      "\n",
      "\n",
      "밤하늘의 별을(2020)\n",
      "\n",
      "\n",
      "어푸 (Ah puh)\n",
      "\n",
      "\n",
      "You can't sit with us\n",
      "\n",
      "\n",
      "Lovesick Girls\n",
      "\n",
      "\n",
      "I Don't Love You (Feat. 쿠기)\n",
      "\n",
      "\n",
      "잊었니\n",
      "\n",
      "\n",
      "가을 우체국 앞에서\n",
      "\n",
      "\n",
      "어떻게 이별까지 사랑하겠어, 널 사랑하는 거지\n",
      "\n",
      "\n",
      "미워요\n",
      "\n",
      "\n",
      "Off My Face\n",
      "\n",
      "\n",
      "Dolphin\n",
      "\n",
      "\n",
      "슈퍼스타\n",
      "\n",
      "\n",
      "Blueming\n",
      "\n",
      "\n",
      "계단말고 엘리베이터\n",
      "\n",
      "\n",
      "추억은 만남보다 이별에 남아\n",
      "\n",
      "\n",
      "아로하\n",
      "\n",
      "\n",
      "사랑의 아픔 딛고\n",
      "\n",
      "\n",
      "잠이 오질 않네요\n",
      "\n",
      "\n",
      "비 오는 날 듣기 좋은 노래 (Feat. Colde)\n",
      "\n",
      "\n",
      "에잇(Prod.&Feat. SUGA of BTS)\n",
      "\n",
      "\n",
      "라라라\n",
      "\n",
      "\n",
      "전쟁터 (with 이선희)\n",
      "\n",
      "\n",
      "고백\n",
      "\n",
      "\n",
      "LOVE DAY (2021) (바른연애 길잡이 X 양요섭, 정은지)\n",
      "\n",
      "\n",
      "취기를 빌려 (취향저격 그녀 X 산들)\n",
      "\n",
      "\n",
      "허리춤\n",
      "\n",
      "\n",
      "이젠 잊기로 해요 (Drama Ver.)\n",
      "\n",
      "\n",
      "2002\n",
      "\n",
      "\n",
      "그날에 나는 맘이 편했을까\n",
      "\n",
      "\n",
      "목로주점\n",
      "\n",
      "\n",
      "THRILL RIDE\n",
      "\n",
      "\n",
      "METEOR\n",
      "\n",
      "\n",
      "Coin\n",
      "\n",
      "\n",
      "흔들리는 꽃들 속에서 네 샴푸향이 느껴진거야\n",
      "\n",
      "\n",
      "VVS (Feat. JUSTHIS) (Prod. GroovyRoom)\n",
      "\n",
      "\n",
      "나는 너 좋아\n",
      "\n",
      "\n",
      "모든 날, 모든 순간 (Every day, Every Moment)\n",
      "\n",
      "\n",
      "내사람\n",
      "\n",
      "\n",
      "나랑 같이 걸을래 (바른연애 길잡이 X 적재)\n",
      "\n",
      "\n",
      "On The Ground\n",
      "\n",
      "\n",
      "오래된 노래\n",
      "\n",
      "\n",
      "너의 번호를 누르고 (Prod. 영화처럼)\n",
      "\n",
      "\n",
      "12:45 (Stripped)\n",
      "\n",
      "\n",
      "마.피.아. In the morning\n",
      "\n",
      "\n",
      "째깍 째깍 째깍 (with Beenzino)\n",
      "\n",
      "\n",
      "난 너를 사랑해\n",
      "\n",
      "\n",
      "오늘도 빛나는 너에게 (To You My Light) (Feat.이라온)\n",
      "\n",
      "\n",
      "너에게\n",
      "\n",
      "\n",
      "어떻게 지내 (Prod. By VAN.C)\n",
      "\n"
     ]
    }
   ],
   "source": [
    "song_list= []\n",
    "\n",
    "for i in song_title :\n",
    "    print(i.text)\n",
    "    song_list.append(i.text)"
   ]
  },
  {
   "cell_type": "markdown",
   "metadata": {},
   "source": [
    "----------"
   ]
  },
  {
   "cell_type": "markdown",
   "metadata": {},
   "source": [
    "# 가수 크롤링 "
   ]
  },
  {
   "cell_type": "code",
   "execution_count": 9,
   "metadata": {
    "scrolled": true
   },
   "outputs": [],
   "source": [
    "singer =soup.find_all('span', attrs={'class':'checkEllipsis'})"
   ]
  },
  {
   "cell_type": "code",
   "execution_count": 10,
   "metadata": {
    "scrolled": true
   },
   "outputs": [
    {
     "name": "stdout",
     "output_type": "stream",
     "text": [
      "이무진\n",
      "AKMU (악뮤)\n",
      "MSG워너비(M.O.M)\n",
      "방탄소년단\n",
      "aespa\n",
      "태연 (TAEYEON)\n",
      "방탄소년단\n",
      "조정석\n",
      "헤이즈 (Heize)\n",
      "Justin Bieber\n",
      "방탄소년단\n",
      "디핵 (D-Hack), PATEKO (파테코)\n",
      "오마이걸 (OH MY GIRL)\n",
      "브레이브걸스\n",
      "브레이브걸스\n",
      "TWICE (트와이스)\n",
      "이무진\n",
      "아이유\n",
      "임영웅\n",
      "10CM\n",
      "전소미\n",
      "빅마마\n",
      "MSG워너비(정상동기)\n",
      "헤이즈 (Heize)\n",
      "아이유\n",
      "STAYC(스테이씨)\n",
      "조이 (JOY)\n",
      "V.O.S\n",
      "Ed Sheeran\n",
      "브레이브걸스\n",
      "Jawsh 685, Jason Derulo, 방탄소년단\n",
      "The Kid LAROI, Justin Bieber\n",
      "방탄소년단\n",
      "라붐 (LABOUM)\n",
      "호미들\n",
      "임영웅\n",
      "효린, 다솜\n",
      "경서예지, 전건호\n",
      "SG 워너비\n",
      "임영웅\n",
      "아이유\n",
      "MSG워너비 TOP 8 (별루지, 김정수, 강창모, 정기석, 이동휘, 이상이, 박재정, 원슈타인)\n",
      "방탄소년단\n",
      "방탄소년단\n",
      "ASH ISLAND\n",
      "임영웅\n",
      "송이한\n",
      "임영웅\n",
      "임영웅\n",
      "임영웅\n",
      "SG 워너비\n",
      "경서\n",
      "아이유\n",
      "선미\n",
      "BLACKPINK\n",
      "GRAY (그레이)\n",
      "임영웅\n",
      "김대명\n",
      "AKMU (악뮤)\n",
      "임영웅\n",
      "Justin Bieber\n",
      "오마이걸 (OH MY GIRL)\n",
      "미도와 파라솔\n",
      "아이유\n",
      "임영웅\n",
      "정동하\n",
      "조정석\n",
      "임영웅\n",
      "장범준\n",
      "에픽하이 (EPIK HIGH)\n",
      "아이유\n",
      "SG 워너비\n",
      "AKMU (악뮤)\n",
      "장범준\n",
      "양요섭, 정은지\n",
      "산들\n",
      "오반 (OVAN)\n",
      "미도와 파라솔\n",
      "Anne-Marie\n",
      "이예준\n",
      "임영웅\n",
      "더보이즈 (THE BOYZ)\n",
      "창모 (CHANGMO)\n",
      "아이유\n",
      "장범준\n",
      "미란이 (Mirani), 먼치맨(MUNCHMAN), Khundi Panda, 머쉬베놈 (MUSHVENOM)\n",
      "장범준\n",
      "폴킴\n",
      "SG 워너비\n",
      "적재\n",
      "로제 (ROSÉ)\n",
      "스탠딩 에그\n",
      "#안녕\n",
      "Etham\n",
      "ITZY (있지)\n",
      "AKMU (악뮤)\n",
      "MSG워너비\n",
      "마크툽 (MAKTUB)\n",
      "유연석\n",
      "오반 (OVAN)\n"
     ]
    }
   ],
   "source": [
    "singer_list=[]\n",
    "for s in singer:\n",
    "    print(s.text)\n",
    "    singer_list.append(s.text)"
   ]
  },
  {
   "cell_type": "code",
   "execution_count": 11,
   "metadata": {
    "scrolled": false
   },
   "outputs": [
    {
     "data": {
      "text/plain": [
       "['이무진',\n",
       " 'AKMU (악뮤)',\n",
       " 'MSG워너비(M.O.M)',\n",
       " '방탄소년단',\n",
       " 'aespa',\n",
       " '태연 (TAEYEON)',\n",
       " '방탄소년단',\n",
       " '조정석',\n",
       " '헤이즈 (Heize)',\n",
       " 'Justin Bieber',\n",
       " '방탄소년단',\n",
       " '디핵 (D-Hack), PATEKO (파테코)',\n",
       " '오마이걸 (OH MY GIRL)',\n",
       " '브레이브걸스',\n",
       " '브레이브걸스',\n",
       " 'TWICE (트와이스)',\n",
       " '이무진',\n",
       " '아이유',\n",
       " '임영웅',\n",
       " '10CM',\n",
       " '전소미',\n",
       " '빅마마',\n",
       " 'MSG워너비(정상동기)',\n",
       " '헤이즈 (Heize)',\n",
       " '아이유',\n",
       " 'STAYC(스테이씨)',\n",
       " '조이 (JOY)',\n",
       " 'V.O.S',\n",
       " 'Ed Sheeran',\n",
       " '브레이브걸스',\n",
       " 'Jawsh 685, Jason Derulo, 방탄소년단',\n",
       " 'The Kid LAROI, Justin Bieber',\n",
       " '방탄소년단',\n",
       " '라붐 (LABOUM)',\n",
       " '호미들',\n",
       " '임영웅',\n",
       " '효린, 다솜',\n",
       " '경서예지, 전건호',\n",
       " 'SG 워너비',\n",
       " '임영웅',\n",
       " '아이유',\n",
       " 'MSG워너비 TOP 8 (별루지, 김정수, 강창모, 정기석, 이동휘, 이상이, 박재정, 원슈타인)',\n",
       " '방탄소년단',\n",
       " '방탄소년단',\n",
       " 'ASH ISLAND',\n",
       " '임영웅',\n",
       " '송이한',\n",
       " '임영웅',\n",
       " '임영웅',\n",
       " '임영웅',\n",
       " 'SG 워너비',\n",
       " '경서',\n",
       " '아이유',\n",
       " '선미',\n",
       " 'BLACKPINK',\n",
       " 'GRAY (그레이)',\n",
       " '임영웅',\n",
       " '김대명',\n",
       " 'AKMU (악뮤)',\n",
       " '임영웅',\n",
       " 'Justin Bieber',\n",
       " '오마이걸 (OH MY GIRL)',\n",
       " '미도와 파라솔',\n",
       " '아이유',\n",
       " '임영웅',\n",
       " '정동하',\n",
       " '조정석',\n",
       " '임영웅',\n",
       " '장범준',\n",
       " '에픽하이 (EPIK HIGH)',\n",
       " '아이유',\n",
       " 'SG 워너비',\n",
       " 'AKMU (악뮤)',\n",
       " '장범준',\n",
       " '양요섭, 정은지',\n",
       " '산들',\n",
       " '오반 (OVAN)',\n",
       " '미도와 파라솔',\n",
       " 'Anne-Marie',\n",
       " '이예준',\n",
       " '임영웅',\n",
       " '더보이즈 (THE BOYZ)',\n",
       " '창모 (CHANGMO)',\n",
       " '아이유',\n",
       " '장범준',\n",
       " '미란이 (Mirani), 먼치맨(MUNCHMAN), Khundi Panda, 머쉬베놈 (MUSHVENOM)',\n",
       " '장범준',\n",
       " '폴킴',\n",
       " 'SG 워너비',\n",
       " '적재',\n",
       " '로제 (ROSÉ)',\n",
       " '스탠딩 에그',\n",
       " '#안녕',\n",
       " 'Etham',\n",
       " 'ITZY (있지)',\n",
       " 'AKMU (악뮤)',\n",
       " 'MSG워너비',\n",
       " '마크툽 (MAKTUB)',\n",
       " '유연석',\n",
       " '오반 (OVAN)']"
      ]
     },
     "execution_count": 11,
     "metadata": {},
     "output_type": "execute_result"
    }
   ],
   "source": [
    "singer_list"
   ]
  },
  {
   "cell_type": "markdown",
   "metadata": {},
   "source": [
    "-----------"
   ]
  },
  {
   "cell_type": "markdown",
   "metadata": {},
   "source": [
    "# 좋아요 수 크롤링 "
   ]
  },
  {
   "cell_type": "code",
   "execution_count": 12,
   "metadata": {},
   "outputs": [],
   "source": [
    "like_count = soup.find_all('span',attrs={'class' :'cnt'})"
   ]
  },
  {
   "cell_type": "code",
   "execution_count": 13,
   "metadata": {},
   "outputs": [],
   "source": [
    "like_count_list=[]\n",
    "for i in like_count:\n",
    "    tmp=i.text.replace('\\n총건수\\n','')\n",
    "    like_count_list.append(tmp) \n",
    "    tmp\n",
    "\n",
    "# del like_count_list[0:7]# 앞부분 필요없는 문자열 제거 "
   ]
  },
  {
   "cell_type": "code",
   "execution_count": 14,
   "metadata": {},
   "outputs": [
    {
     "data": {
      "text/plain": [
       "107"
      ]
     },
     "execution_count": 14,
     "metadata": {},
     "output_type": "execute_result"
    }
   ],
   "source": [
    "len(like_count_list)"
   ]
  },
  {
   "cell_type": "code",
   "execution_count": 15,
   "metadata": {
    "scrolled": true
   },
   "outputs": [],
   "source": [
    "#like_count_list=pd.DataFrame({\"좋아요_수\":like_count_list})"
   ]
  },
  {
   "cell_type": "code",
   "execution_count": 16,
   "metadata": {
    "scrolled": false
   },
   "outputs": [
    {
     "data": {
      "text/plain": [
       "['셔플듣기',\n",
       " '전체듣기',\n",
       " '듣기',\n",
       " '담기',\n",
       " '다운',\n",
       " 'FLAC',\n",
       " '선물',\n",
       " '163,115',\n",
       " '81,632',\n",
       " '138,641',\n",
       " '154,249',\n",
       " '185,363',\n",
       " '107,331',\n",
       " '234,741',\n",
       " '47,074',\n",
       " '139,240',\n",
       " '187,758',\n",
       " '420,347',\n",
       " '86,032',\n",
       " '135,780',\n",
       " '89,017',\n",
       " '285,648',\n",
       " '69,834',\n",
       " '70,064',\n",
       " '210,231',\n",
       " '133,202',\n",
       " '16,527',\n",
       " '25,641',\n",
       " '39,210',\n",
       " '66,879',\n",
       " '22,802',\n",
       " '295,412',\n",
       " '117,888',\n",
       " '99,256',\n",
       " '3,519',\n",
       " '37,923',\n",
       " '127,125',\n",
       " '182,436',\n",
       " '43,224',\n",
       " '427,307',\n",
       " '119,725',\n",
       " '103,011',\n",
       " '59,839',\n",
       " '5,313',\n",
       " '34,995',\n",
       " '100,340',\n",
       " '60,327',\n",
       " '163,676',\n",
       " '60,266',\n",
       " '546,246',\n",
       " '223,742',\n",
       " '101,758',\n",
       " '19,753',\n",
       " '89,439',\n",
       " '25,216',\n",
       " '20,872',\n",
       " '21,365',\n",
       " '27,281',\n",
       " '159,943',\n",
       " '93,735',\n",
       " '11,910',\n",
       " '197,462',\n",
       " '5,459',\n",
       " '19,260',\n",
       " '31,428',\n",
       " '357,161',\n",
       " '47,514',\n",
       " '64,492',\n",
       " '188,970',\n",
       " '27,016',\n",
       " '314,482',\n",
       " '50,820',\n",
       " '54,397',\n",
       " '224,409',\n",
       " '12,185',\n",
       " '144,952',\n",
       " '47,557',\n",
       " '364,572',\n",
       " '83,321',\n",
       " '26,083',\n",
       " '18,809',\n",
       " '98,565',\n",
       " '197,283',\n",
       " '28,101',\n",
       " '14,801',\n",
       " '366,073',\n",
       " '59,515',\n",
       " '16,390',\n",
       " '30,691',\n",
       " '267,580',\n",
       " '100,378',\n",
       " '291,243',\n",
       " '188,345',\n",
       " '17,327',\n",
       " '372,821',\n",
       " '68,755',\n",
       " '109,470',\n",
       " '137,189',\n",
       " '232,278',\n",
       " '84,199',\n",
       " '145,406',\n",
       " '58,522',\n",
       " '16,831',\n",
       " '18,672',\n",
       " '242,405',\n",
       " '9,639',\n",
       " '164,831']"
      ]
     },
     "execution_count": 16,
     "metadata": {},
     "output_type": "execute_result"
    }
   ],
   "source": [
    "like_count_list"
   ]
  },
  {
   "cell_type": "markdown",
   "metadata": {},
   "source": [
    "-----------"
   ]
  },
  {
   "cell_type": "code",
   "execution_count": 17,
   "metadata": {
    "scrolled": true
   },
   "outputs": [
    {
     "ename": "ValueError",
     "evalue": "All arrays must be of the same length",
     "output_type": "error",
     "traceback": [
      "\u001b[1;31m---------------------------------------------------------------------------\u001b[0m",
      "\u001b[1;31mValueError\u001b[0m                                Traceback (most recent call last)",
      "\u001b[1;32m<ipython-input-17-00e48cbcccf5>\u001b[0m in \u001b[0;36m<module>\u001b[1;34m\u001b[0m\n\u001b[1;32m----> 1\u001b[1;33m \u001b[0mdf\u001b[0m \u001b[1;33m=\u001b[0m \u001b[0mpd\u001b[0m\u001b[1;33m.\u001b[0m\u001b[0mDataFrame\u001b[0m\u001b[1;33m(\u001b[0m\u001b[1;33m{\u001b[0m\u001b[1;34m'곡명'\u001b[0m\u001b[1;33m:\u001b[0m\u001b[0msong_list\u001b[0m\u001b[1;33m,\u001b[0m\u001b[1;34m'가수명'\u001b[0m\u001b[1;33m:\u001b[0m\u001b[0msinger_list\u001b[0m\u001b[1;33m,\u001b[0m\u001b[1;34m\"좋아요_수\"\u001b[0m\u001b[1;33m:\u001b[0m\u001b[0mlike_count_list\u001b[0m\u001b[1;33m}\u001b[0m\u001b[1;33m)\u001b[0m\u001b[1;33m\u001b[0m\u001b[1;33m\u001b[0m\u001b[0m\n\u001b[0m",
      "\u001b[1;32m~\\Anaconda3\\lib\\site-packages\\pandas\\core\\frame.py\u001b[0m in \u001b[0;36m__init__\u001b[1;34m(self, data, index, columns, dtype, copy)\u001b[0m\n\u001b[0;32m    612\u001b[0m         \u001b[1;32melif\u001b[0m \u001b[0misinstance\u001b[0m\u001b[1;33m(\u001b[0m\u001b[0mdata\u001b[0m\u001b[1;33m,\u001b[0m \u001b[0mdict\u001b[0m\u001b[1;33m)\u001b[0m\u001b[1;33m:\u001b[0m\u001b[1;33m\u001b[0m\u001b[1;33m\u001b[0m\u001b[0m\n\u001b[0;32m    613\u001b[0m             \u001b[1;31m# GH#38939 de facto copy defaults to False only in non-dict cases\u001b[0m\u001b[1;33m\u001b[0m\u001b[1;33m\u001b[0m\u001b[1;33m\u001b[0m\u001b[0m\n\u001b[1;32m--> 614\u001b[1;33m             \u001b[0mmgr\u001b[0m \u001b[1;33m=\u001b[0m \u001b[0mdict_to_mgr\u001b[0m\u001b[1;33m(\u001b[0m\u001b[0mdata\u001b[0m\u001b[1;33m,\u001b[0m \u001b[0mindex\u001b[0m\u001b[1;33m,\u001b[0m \u001b[0mcolumns\u001b[0m\u001b[1;33m,\u001b[0m \u001b[0mdtype\u001b[0m\u001b[1;33m=\u001b[0m\u001b[0mdtype\u001b[0m\u001b[1;33m,\u001b[0m \u001b[0mcopy\u001b[0m\u001b[1;33m=\u001b[0m\u001b[0mcopy\u001b[0m\u001b[1;33m,\u001b[0m \u001b[0mtyp\u001b[0m\u001b[1;33m=\u001b[0m\u001b[0mmanager\u001b[0m\u001b[1;33m)\u001b[0m\u001b[1;33m\u001b[0m\u001b[1;33m\u001b[0m\u001b[0m\n\u001b[0m\u001b[0;32m    615\u001b[0m         \u001b[1;32melif\u001b[0m \u001b[0misinstance\u001b[0m\u001b[1;33m(\u001b[0m\u001b[0mdata\u001b[0m\u001b[1;33m,\u001b[0m \u001b[0mma\u001b[0m\u001b[1;33m.\u001b[0m\u001b[0mMaskedArray\u001b[0m\u001b[1;33m)\u001b[0m\u001b[1;33m:\u001b[0m\u001b[1;33m\u001b[0m\u001b[1;33m\u001b[0m\u001b[0m\n\u001b[0;32m    616\u001b[0m             \u001b[1;32mimport\u001b[0m \u001b[0mnumpy\u001b[0m\u001b[1;33m.\u001b[0m\u001b[0mma\u001b[0m\u001b[1;33m.\u001b[0m\u001b[0mmrecords\u001b[0m \u001b[1;32mas\u001b[0m \u001b[0mmrecords\u001b[0m\u001b[1;33m\u001b[0m\u001b[1;33m\u001b[0m\u001b[0m\n",
      "\u001b[1;32m~\\Anaconda3\\lib\\site-packages\\pandas\\core\\internals\\construction.py\u001b[0m in \u001b[0;36mdict_to_mgr\u001b[1;34m(data, index, columns, dtype, typ, copy)\u001b[0m\n\u001b[0;32m    463\u001b[0m \u001b[1;33m\u001b[0m\u001b[0m\n\u001b[0;32m    464\u001b[0m     return arrays_to_mgr(\n\u001b[1;32m--> 465\u001b[1;33m         \u001b[0marrays\u001b[0m\u001b[1;33m,\u001b[0m \u001b[0mdata_names\u001b[0m\u001b[1;33m,\u001b[0m \u001b[0mindex\u001b[0m\u001b[1;33m,\u001b[0m \u001b[0mcolumns\u001b[0m\u001b[1;33m,\u001b[0m \u001b[0mdtype\u001b[0m\u001b[1;33m=\u001b[0m\u001b[0mdtype\u001b[0m\u001b[1;33m,\u001b[0m \u001b[0mtyp\u001b[0m\u001b[1;33m=\u001b[0m\u001b[0mtyp\u001b[0m\u001b[1;33m,\u001b[0m \u001b[0mconsolidate\u001b[0m\u001b[1;33m=\u001b[0m\u001b[0mcopy\u001b[0m\u001b[1;33m\u001b[0m\u001b[1;33m\u001b[0m\u001b[0m\n\u001b[0m\u001b[0;32m    466\u001b[0m     )\n\u001b[0;32m    467\u001b[0m \u001b[1;33m\u001b[0m\u001b[0m\n",
      "\u001b[1;32m~\\Anaconda3\\lib\\site-packages\\pandas\\core\\internals\\construction.py\u001b[0m in \u001b[0;36marrays_to_mgr\u001b[1;34m(arrays, arr_names, index, columns, dtype, verify_integrity, typ, consolidate)\u001b[0m\n\u001b[0;32m    117\u001b[0m         \u001b[1;31m# figure out the index, if necessary\u001b[0m\u001b[1;33m\u001b[0m\u001b[1;33m\u001b[0m\u001b[1;33m\u001b[0m\u001b[0m\n\u001b[0;32m    118\u001b[0m         \u001b[1;32mif\u001b[0m \u001b[0mindex\u001b[0m \u001b[1;32mis\u001b[0m \u001b[1;32mNone\u001b[0m\u001b[1;33m:\u001b[0m\u001b[1;33m\u001b[0m\u001b[1;33m\u001b[0m\u001b[0m\n\u001b[1;32m--> 119\u001b[1;33m             \u001b[0mindex\u001b[0m \u001b[1;33m=\u001b[0m \u001b[0m_extract_index\u001b[0m\u001b[1;33m(\u001b[0m\u001b[0marrays\u001b[0m\u001b[1;33m)\u001b[0m\u001b[1;33m\u001b[0m\u001b[1;33m\u001b[0m\u001b[0m\n\u001b[0m\u001b[0;32m    120\u001b[0m         \u001b[1;32melse\u001b[0m\u001b[1;33m:\u001b[0m\u001b[1;33m\u001b[0m\u001b[1;33m\u001b[0m\u001b[0m\n\u001b[0;32m    121\u001b[0m             \u001b[0mindex\u001b[0m \u001b[1;33m=\u001b[0m \u001b[0mensure_index\u001b[0m\u001b[1;33m(\u001b[0m\u001b[0mindex\u001b[0m\u001b[1;33m)\u001b[0m\u001b[1;33m\u001b[0m\u001b[1;33m\u001b[0m\u001b[0m\n",
      "\u001b[1;32m~\\Anaconda3\\lib\\site-packages\\pandas\\core\\internals\\construction.py\u001b[0m in \u001b[0;36m_extract_index\u001b[1;34m(data)\u001b[0m\n\u001b[0;32m    633\u001b[0m             \u001b[0mlengths\u001b[0m \u001b[1;33m=\u001b[0m \u001b[0mlist\u001b[0m\u001b[1;33m(\u001b[0m\u001b[0mset\u001b[0m\u001b[1;33m(\u001b[0m\u001b[0mraw_lengths\u001b[0m\u001b[1;33m)\u001b[0m\u001b[1;33m)\u001b[0m\u001b[1;33m\u001b[0m\u001b[1;33m\u001b[0m\u001b[0m\n\u001b[0;32m    634\u001b[0m             \u001b[1;32mif\u001b[0m \u001b[0mlen\u001b[0m\u001b[1;33m(\u001b[0m\u001b[0mlengths\u001b[0m\u001b[1;33m)\u001b[0m \u001b[1;33m>\u001b[0m \u001b[1;36m1\u001b[0m\u001b[1;33m:\u001b[0m\u001b[1;33m\u001b[0m\u001b[1;33m\u001b[0m\u001b[0m\n\u001b[1;32m--> 635\u001b[1;33m                 \u001b[1;32mraise\u001b[0m \u001b[0mValueError\u001b[0m\u001b[1;33m(\u001b[0m\u001b[1;34m\"All arrays must be of the same length\"\u001b[0m\u001b[1;33m)\u001b[0m\u001b[1;33m\u001b[0m\u001b[1;33m\u001b[0m\u001b[0m\n\u001b[0m\u001b[0;32m    636\u001b[0m \u001b[1;33m\u001b[0m\u001b[0m\n\u001b[0;32m    637\u001b[0m             \u001b[1;32mif\u001b[0m \u001b[0mhave_dicts\u001b[0m\u001b[1;33m:\u001b[0m\u001b[1;33m\u001b[0m\u001b[1;33m\u001b[0m\u001b[0m\n",
      "\u001b[1;31mValueError\u001b[0m: All arrays must be of the same length"
     ]
    }
   ],
   "source": [
    "df = pd.DataFrame({'곡명':song_list,'가수명':singer_list,\"좋아요_수\":like_count_list})"
   ]
  },
  {
   "cell_type": "code",
   "execution_count": null,
   "metadata": {},
   "outputs": [],
   "source": [
    "df.to_csv('chart crawling.csv', encoding='utf-8-sig')"
   ]
  },
  {
   "cell_type": "code",
   "execution_count": null,
   "metadata": {
    "scrolled": true
   },
   "outputs": [],
   "source": [
    "data= pd.read_csv('chart crawling.csv')"
   ]
  }
 ],
 "metadata": {
  "kernelspec": {
   "display_name": "Python 3",
   "language": "python",
   "name": "python3"
  },
  "language_info": {
   "codemirror_mode": {
    "name": "ipython",
    "version": 3
   },
   "file_extension": ".py",
   "mimetype": "text/x-python",
   "name": "python",
   "nbconvert_exporter": "python",
   "pygments_lexer": "ipython3",
   "version": "3.7.3"
  }
 },
 "nbformat": 4,
 "nbformat_minor": 2
}
